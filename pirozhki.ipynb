{
 "cells": [
  {
   "cell_type": "markdown",
   "metadata": {},
   "source": [
    "# CASE: O vendedor de Pirozhki\n",
    "\n",
    "Vladimir Sidorov desistiu de seu trabalho convencional na KGB e decidiu empreender em 2010 no ramo alimentício. Com suas economias abriu um foodtruck especializado na venda de Pirozhki, onde seu grande diferencial era trabalhar com ingredientes importados dando uma qualidade extraordinária ao produto. Após o crescimento das vendas, a modalidade delivery foi implementada para auxiliar a empresa. Vladimir era extremamente popular no bairro, todos o conheciam, mas em 2019 se mudou para um ponto melhor e não tivemos mais notícia. Os últimos dados compartilhados das vendas de Vlad foram disponibilizados antes de sua partida.\n",
    "\n",
    "| Ano  | Vendas |\n",
    "| ---- | ------ |\n",
    "| 2010 | 723    |\n",
    "| 2011 | 814    |\n",
    "| 2012 | 905    |\n",
    "| 2014 | 1087   |\n",
    "| 2017 | 1360   |\n",
    "| 2018 | 1451   |\n",
    "| 2019 | 1542   |\n",
    "\n",
    "1.  Dado o problema acima, qual o melhor algoritmo para descobrir os dados de 2015?\n",
    "2.  Qual coeficiente angular?\n",
    "3.  Considerando uma perspectiva estatística, qual o total de venda em 2020 (Apresentar valores)?\n",
    "4.  Considerando uma perspectiva estatística, qual o total de venda em 2021 (Apresentar valores)?\n",
    "5.  Desenvolva um código em python que calcule estatisticamente as vendas em qualquer ano desejado\n",
    "6.  Considerando sua opinião, qual o total de venda em 2021?\n",
    "7.  Considerando sua opinião, qual o total de venda em 2023?\n"
   ]
  },
  {
   "cell_type": "markdown",
   "metadata": {},
   "source": [
    "- Nome: Cauã Simões Pinheiro\n",
    "- RM: 98319\n",
    "\n",
    "## Respostas\n",
    "\n",
    "1. O melhor algoritmo para descobrir os dados de 2015 é o de regressão linear, pois ele é capaz de prever valores futuros com base em dados passados.\n"
   ]
  },
  {
   "cell_type": "code",
   "execution_count": 24,
   "metadata": {},
   "outputs": [
    {
     "data": {
      "text/plain": [
       "91.00000000000001"
      ]
     },
     "execution_count": 24,
     "metadata": {},
     "output_type": "execute_result"
    }
   ],
   "source": [
    "# 2. https://pt.wikipedia.org/wiki/Declive\n",
    "import numpy as np\n",
    "\n",
    "X = np.array([2010, 2011, 2012, 2014, 2017, 2018, 2019])\n",
    "y = np.array([723, 814, 905, 1087, 1360, 1451, 1542])\n",
    "\n",
    "media_X = np.mean(X)\n",
    "media_y = np.mean(y)\n",
    "\n",
    "numerador = np.sum((X - media_X) * (y - media_y))\n",
    "denominador = np.sum((X - media_X) ** 2)\n",
    "\n",
    "coeficiente_angular = numerador / denominador\n",
    "\n",
    "coeficiente_angular"
   ]
  },
  {
   "cell_type": "code",
   "execution_count": 28,
   "metadata": {},
   "outputs": [
    {
     "name": "stdout",
     "output_type": "stream",
     "text": [
      "Total de venda de 2020: 1633.0000000000089\n",
      "Total de venda de 2021: 1724.000000000009\n"
     ]
    },
    {
     "data": {
      "text/plain": [
       "1724.0"
      ]
     },
     "execution_count": 28,
     "metadata": {},
     "output_type": "execute_result"
    }
   ],
   "source": [
    "# 3.\n",
    "\n",
    "print(f\"Total de venda de 2020: {coeficiente_angular * (2020 - media_X) + media_y}\")\n",
    "\n",
    "# ou\n",
    "\n",
    "y_2019 = y[-1]\n",
    "\n",
    "y_2019 + coeficiente_angular\n",
    "\n",
    "# 4.\n",
    "\n",
    "print(f\"Total de venda de 2021: {coeficiente_angular * (2021 - media_X) + media_y}\")\n",
    "\n",
    "# ou\n",
    "\n",
    "y_2019 + 2 * coeficiente_angular"
   ]
  },
  {
   "cell_type": "code",
   "execution_count": 31,
   "metadata": {},
   "outputs": [
    {
     "data": {
      "text/plain": [
       "1906.000000000009"
      ]
     },
     "execution_count": 31,
     "metadata": {},
     "output_type": "execute_result"
    }
   ],
   "source": [
    "# 5.\n",
    "\n",
    "\n",
    "def prev_ano(ano):\n",
    "    return coeficiente_angular * (ano - media_X) + media_y\n",
    "\n",
    "\n",
    "prev_ano(2023)"
   ]
  },
  {
   "cell_type": "markdown",
   "metadata": {},
   "source": [
    "6.\n",
    "\n",
    "Sabendo que tivemos uma pandemia em 2020, temos três cenários possíveis:\n",
    "\n",
    "- Cenário 1: Vladimir se adaptou e começou a vender por aplicativos de entrega, como iFood e Uber Eats.\n",
    "  Nesse caso, o total de vendas deve continuar a reta do coeficiente, então, o total de vendas em 2021 seria de 1724.\n",
    "- Cenário 2: Vladimir não se adaptou e continuou vendendo apenas presencialmente. Nesse caso, o total de vendas deve cair drasticamente, então, o total de vendas em 2021 seria menor que 600.\n",
    "- Cenário 3: Como aconteceu com muitos negócios, Vladimir não se adaptou e acabou fechando o seu negócio. Nesse caso, o total de vendas seria 0.\n",
    "\n",
    "7.\n",
    "\n",
    "Seguindo a mesma lógica do item 6, temos três cenários possíveis:\n",
    "\n",
    "- Cenário 1: Vladimir se adaptou e começou a vender por aplicativos de entrega, como iFood e Uber Eats. Em 2023, ele pode decidir se continua com o modelo de venda por aplicativo ou volta a ser um foodtruck.  \n",
    "  De qualquer maneira, o total de vendas deve continuar a reta do coeficiente, então, o total de vendas em 2023 seria de 1906.\n",
    "- Cenário 2: Vladimir não se adaptou e continuou vendendo apenas presencialmente. Nesse caso, o total de vendas deve cair drasticamente e volta a se recuperar somente em 2023, então, o total de vendas em 2023 seria algo perto do que era em 2019, por volta de 1500.\n",
    "- Cenário 3: Como aconteceu com muitos negócios, Vladimir não se adaptou e acabou fechando o seu negócio na pandemia. Nesse caso, o total de vendas seria 0.\n"
   ]
  }
 ],
 "metadata": {
  "kernelspec": {
   "display_name": ".venv",
   "language": "python",
   "name": "python3"
  },
  "language_info": {
   "codemirror_mode": {
    "name": "ipython",
    "version": 3
   },
   "file_extension": ".py",
   "mimetype": "text/x-python",
   "name": "python",
   "nbconvert_exporter": "python",
   "pygments_lexer": "ipython3",
   "version": "3.11.4"
  },
  "orig_nbformat": 4
 },
 "nbformat": 4,
 "nbformat_minor": 2
}
