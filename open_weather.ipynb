{
  "cells": [
    {
      "cell_type": "markdown",
      "metadata": {
        "id": "QLmc9l-wk9tK"
      },
      "source": [
        "# Consumindo a API do OPEN WEATHER\n",
        "\n",
        "OpenWeatherMap é um serviço online, de propriedade da OpenWeather Ltd, que fornece dados meteorológicos globais via API, incluindo dados meteorológicos atuais, previsões, previsões e dados meteorológicos históricos para qualquer localização geográfica\n",
        "\n",
        "https://openweathermap.org/\n",
        "\n",
        "\n"
      ]
    },
    {
      "cell_type": "markdown",
      "metadata": {
        "id": "qPrM1XR3lcsx"
      },
      "source": [
        "## Exercício\n",
        "\n",
        "Consuma a API OPEN WEATHER de uma cidade que comece com a mesma letra do seu nome, normalize a saida para que seja amigavel para o usuário, e converta as unidades para os padrões que usamos no Brasil.\n",
        "\n",
        "Para isso consulte a documentação do openweather, doc da biblioteca \"requests\" do python e materiais onlines\n",
        "\n",
        "Após terminar o exercicio, disponibilize um link do **github** em um repositorio da sua escolha para a correção\n",
        "\n",
        "*Arquivo > Salvar uma cópia no Github*\n",
        "\n",
        "Insira seu nome e RM abaixo"
      ]
    },
    {
      "cell_type": "code",
      "execution_count": 1,
      "metadata": {
        "id": "vv5aH-8pmZLx"
      },
      "outputs": [
        {
          "data": {
            "text/plain": [
              "('Cauã Simões Pinheiro', '98319')"
            ]
          },
          "execution_count": 1,
          "metadata": {},
          "output_type": "execute_result"
        }
      ],
      "source": [
        "nome = input('Insira seu nome: ') \n",
        "rm = input('Insira seu rm: ')\n",
        "\n",
        "nome, rm"
      ]
    },
    {
      "cell_type": "markdown",
      "metadata": {
        "id": "2LcLA-zQnpmJ"
      },
      "source": [
        "# Utilize a **Current weather data** para acessar o clima local da cidade\n",
        "\n",
        "Exemplo de endpoint utilizado na doc da api\n",
        "\n",
        "https://api.openweathermap.org/data/2.5/weather?lat={lat}&lon={lon}&appid={API_key}"
      ]
    },
    {
      "cell_type": "code",
      "execution_count": 2,
      "metadata": {
        "id": "gDeBIuvpwSWo"
      },
      "outputs": [],
      "source": [
        "#Lembre-se de importar a biblioteca\n",
        "import requests"
      ]
    },
    {
      "cell_type": "code",
      "execution_count": 3,
      "metadata": {
        "id": "oT2RcDkNkpDi"
      },
      "outputs": [
        {
          "data": {
            "text/plain": [
              "{'coord': {'lon': -47.0608, 'lat': -22.9056},\n",
              " 'weather': [{'id': 800,\n",
              "   'main': 'Clear',\n",
              "   'description': 'clear sky',\n",
              "   'icon': '01d'}],\n",
              " 'base': 'stations',\n",
              " 'main': {'temp': 300.04,\n",
              "  'feels_like': 300.89,\n",
              "  'temp_min': 300.04,\n",
              "  'temp_max': 300.04,\n",
              "  'pressure': 1019,\n",
              "  'humidity': 57},\n",
              " 'visibility': 10000,\n",
              " 'wind': {'speed': 3.09, 'deg': 340},\n",
              " 'clouds': {'all': 0},\n",
              " 'dt': 1679665916,\n",
              " 'sys': {'type': 1,\n",
              "  'id': 8393,\n",
              "  'country': 'BR',\n",
              "  'sunrise': 1679649193,\n",
              "  'sunset': 1679692552},\n",
              " 'timezone': -10800,\n",
              " 'id': 3467865,\n",
              " 'name': 'Campinas',\n",
              " 'cod': 200}"
            ]
          },
          "execution_count": 3,
          "metadata": {},
          "output_type": "execute_result"
        }
      ],
      "source": [
        "API_KEY = \"af3bdcc6bc91ccc2a0f17fe174dca4b5\"\n",
        "cidade = 'campinas'\n",
        "endpoint = f\"https://api.openweathermap.org/data/2.5/weather?q={cidade},br&appid={API_KEY}\"\n",
        "\n",
        "requisicao = requests.get(endpoint)\n",
        "\n",
        "resposta = requisicao.json()\n",
        "\n",
        "resposta"
      ]
    },
    {
      "cell_type": "markdown",
      "metadata": {
        "id": "01EQXOH_oekh"
      },
      "source": [
        "A saida da sua API deve conter 2 informações essenciais:\n",
        "\n",
        "\n",
        "\n",
        "1.   Descrição ( description )\n",
        "2.   Temperatura em Celsius ( temp )\n",
        "\n",
        "Insira abaixo a saida normalizada:\n"
      ]
    },
    {
      "cell_type": "code",
      "execution_count": 4,
      "metadata": {
        "colab": {
          "base_uri": "https://localhost:8080/"
        },
        "id": "gD0e0T8YtyEB",
        "outputId": "adb6889a-c593-448f-e0d3-303267522c82"
      },
      "outputs": [
        {
          "name": "stdout",
          "output_type": "stream",
          "text": [
            "clear sky 300.04\n"
          ]
        }
      ],
      "source": [
        "desc = resposta['weather'][0]['description']\n",
        "temp = resposta['main']['temp']\n",
        "\n",
        "print(desc, temp)\n"
      ]
    },
    {
      "cell_type": "code",
      "execution_count": 5,
      "metadata": {
        "colab": {
          "base_uri": "https://localhost:8080/"
        },
        "id": "5aIfArEAufCo",
        "outputId": "cd32edb5-58b6-41ed-fea3-4d8389f2e552"
      },
      "outputs": [
        {
          "data": {
            "text/plain": [
              "'26.89'"
            ]
          },
          "execution_count": 5,
          "metadata": {},
          "output_type": "execute_result"
        }
      ],
      "source": [
        "temp_c = temp - 273.15  \n",
        "\n",
        "f'{temp_c:.2f}'"
      ]
    }
  ],
  "metadata": {
    "colab": {
      "authorship_tag": "ABX9TyPJQJDrFDMIQGHyfRW29OSg",
      "include_colab_link": true,
      "provenance": []
    },
    "kernelspec": {
      "display_name": "Python 3",
      "name": "python3"
    },
    "language_info": {
      "codemirror_mode": {
        "name": "ipython",
        "version": 3
      },
      "file_extension": ".py",
      "mimetype": "text/x-python",
      "name": "python",
      "nbconvert_exporter": "python",
      "pygments_lexer": "ipython3",
      "version": "3.10.6"
    }
  },
  "nbformat": 4,
  "nbformat_minor": 0
}
